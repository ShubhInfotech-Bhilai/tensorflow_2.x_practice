{
 "cells": [
  {
   "cell_type": "code",
   "execution_count": 1,
   "metadata": {},
   "outputs": [],
   "source": [
    "import matplotlib.pyplot as plt\n",
    "import tensorflow as tf\n",
    "import numpy as np"
   ]
  },
  {
   "cell_type": "code",
   "execution_count": 2,
   "metadata": {},
   "outputs": [],
   "source": [
    "np.random.seed(0)\n",
    "tf.random.set_seed(0)"
   ]
  },
  {
   "cell_type": "code",
   "execution_count": 3,
   "metadata": {},
   "outputs": [],
   "source": [
    "char = ['a', 'b', 'c', 'd', 'e', 'f',\n",
    "        'g', 'h', 'i', 'j', 'k', 'l',\n",
    "        'm', 'n', 'o', 'p', 'q', 'r',\n",
    "        's', 't', 'u', 'v', 'w', 'x',\n",
    "        'y', 'z', '\\n', '\\0', ' '\n",
    "       ]\n",
    "\n",
    "char_to_id = {}\n",
    "for i in range(len(char)):\n",
    "    char_to_id[char[i]] = i\n",
    "\n",
    "id_to_char = {}\n",
    "for i in range(len(char)):\n",
    "    id_to_char[i] = char[i]\n",
    "\n",
    "\n",
    "def read_lines(filename):\n",
    "    with open('./dataset/' + filename) as file:\n",
    "        words = file.readlines()\n",
    "        words = [i.rstrip('\\n') + '\\0' for i in words]\n",
    "        return words\n",
    "\n",
    "def string_to_id_list(s):\n",
    "    return [char_to_id[i] for i in s.lower()]\n",
    "\n",
    "def id_list_to_string(l):\n",
    "    return ''.join([id_to_char[i] for i in l])\n",
    "\n",
    "def pad_strings(lines):\n",
    "    return [line.ljust(30, '\\0') for line in lines]"
   ]
  },
  {
   "cell_type": "code",
   "execution_count": 4,
   "metadata": {},
   "outputs": [],
   "source": [
    "decoded_lines = pad_strings(read_lines('dino.txt'))\n",
    "encoded_lines = [string_to_id_list(i) for i in decoded_lines]"
   ]
  },
  {
   "cell_type": "code",
   "execution_count": 5,
   "metadata": {},
   "outputs": [],
   "source": [
    "nchars = len(char)"
   ]
  },
  {
   "cell_type": "code",
   "execution_count": 6,
   "metadata": {},
   "outputs": [],
   "source": [
    "x_train = []\n",
    "y_train = []\n",
    "\n",
    "for line in encoded_lines:\n",
    "    \n",
    "    buf_x = []\n",
    "    buf_y = []\n",
    "    \n",
    "    for t in range(29):\n",
    "        buf_x += [tf.keras.utils.to_categorical(line[t], nchars)]\n",
    "        buf_y += [tf.keras.utils.to_categorical(line[t + 1], nchars)]\n",
    "    \n",
    "    buf_x += [tf.keras.utils.to_categorical(line[29], nchars)]\n",
    "    buf_y += [tf.keras.utils.to_categorical(27, nchars)]\n",
    "    \n",
    "    x_train += [np.array(buf_x).astype('float32').reshape(len(buf_x), nchars)]\n",
    "    y_train += [np.array(buf_y).astype('float32').reshape(len(buf_y), nchars)]"
   ]
  },
  {
   "cell_type": "code",
   "execution_count": 7,
   "metadata": {},
   "outputs": [
    {
     "name": "stdout",
     "output_type": "stream",
     "text": [
      "(1536, 30, 29)\n",
      "(1536, 30, 29)\n"
     ]
    }
   ],
   "source": [
    "# print(y_train[0].shape)\n",
    "\n",
    "x_train = np.array(x_train).reshape(len(x_train), 30, nchars)\n",
    "y_train = np.array(y_train).reshape(len(y_train), 30, nchars)\n",
    "\n",
    "print(x_train.shape)\n",
    "print(y_train.shape)"
   ]
  },
  {
   "cell_type": "code",
   "execution_count": 8,
   "metadata": {},
   "outputs": [],
   "source": [
    "class RNNSimpleModel(tf.keras.Model):\n",
    "    \n",
    "    def __init__(self):\n",
    "        super().__init__()\n",
    "        \n",
    "        self.L1 = tf.keras.layers.SimpleRNN(50, return_sequences=True)\n",
    "        self.L2 = tf.keras.layers.Dense(nchars, activation='softmax')\n",
    "        \n",
    "    def call(self, inputs):\n",
    "        self.x = self.L1(inputs)\n",
    "        self.x = self.L2(self.x)\n",
    "        return self.x"
   ]
  },
  {
   "cell_type": "code",
   "execution_count": 9,
   "metadata": {},
   "outputs": [],
   "source": [
    "model = RNNSimpleModel()"
   ]
  },
  {
   "cell_type": "code",
   "execution_count": 10,
   "metadata": {},
   "outputs": [],
   "source": [
    "model.compile(optimizer='adam', loss='categorical_crossentropy', metrics=['accuracy'])"
   ]
  },
  {
   "cell_type": "code",
   "execution_count": 11,
   "metadata": {},
   "outputs": [],
   "source": [
    "hist = model.fit(x_train, y_train, epochs=800, verbose=False)"
   ]
  },
  {
   "cell_type": "code",
   "execution_count": 12,
   "metadata": {},
   "outputs": [
    {
     "data": {
      "image/png": "[encoded data removed]",
      "text/plain": [
       "<Figure size 432x288 with 1 Axes>"
      ]
     },
     "metadata": {
      "needs_background": "light"
     },
     "output_type": "display_data"
    }
   ],
   "source": [
    "plt.plot(hist.history['loss'], c='r')\n",
    "plt.show()"
   ]
  },
  {
   "cell_type": "code",
   "execution_count": 13,
   "metadata": {},
   "outputs": [
    {
     "name": "stdout",
     "output_type": "stream",
     "text": [
      "Accuracy: 86.56467199325562 %\n"
     ]
    }
   ],
   "source": [
    "print('Accuracy:', 100 * model.evaluate(x_train, y_train, verbose=False)[1], '%')"
   ]
  },
  {
   "cell_type": "code",
   "execution_count": 15,
   "metadata": {},
   "outputs": [
    {
     "name": "stdin",
     "output_type": "stream",
     "text": [
      "Enter number of names to be generated: 10\n"
     ]
    },
    {
     "name": "stdout",
     "output_type": "stream",
     "text": [
      "===================================\n",
      "Generated Names: \n",
      "===================================\n",
      "Kangyongazia\u0000\n",
      "Gampsonisaurus\u0000\n",
      "Fuajisaurus\u0000\n",
      "Fiduangusaurus\u0000\n",
      "Clapelisaurus\u0000\n",
      "Epllophosaurus\u0000\n",
      "Lbellophauchus\u0000\n",
      "Bisekasaurus\u0000\n",
      "Nitora\u0000\n",
      "Claporisaurus\u0000\n"
     ]
    }
   ],
   "source": [
    "nNames = int(input('Enter number of names to be generated:'))\n",
    "\n",
    "names = []\n",
    "\n",
    "for i in range(nNames):\n",
    "    \n",
    "    string = id_to_char[int(np.squeeze(np.random.randint(0, 15, 1)))]\n",
    "    last_generated = string\n",
    "    \n",
    "    while last_generated != '\\0':\n",
    "        \n",
    "        temp = string_to_id_list(string)\n",
    "        x_pred = []\n",
    "\n",
    "        for t in temp:\n",
    "            x_pred += [tf.keras.utils.to_categorical(t, nchars)]\n",
    "\n",
    "        x_pred = np.array(x_pred).reshape(1, len(string), nchars)\n",
    "        y_pred = model.predict(x_pred)\n",
    "\n",
    "        n = np.random.choice(nchars, 1, p=np.squeeze(y_pred[:, len(string) - 1, :]))\n",
    "        last_generated = id_list_to_string(n)\n",
    "        string = string + last_generated\n",
    "    \n",
    "    names += [string]\n",
    "\n",
    "print('===================================')\n",
    "print('Generated Names: ')\n",
    "print('===================================')\n",
    "\n",
    "for name in names:\n",
    "    print(name.capitalize())"
   ]
  },
  {
   "cell_type": "code",
   "execution_count": null,
   "metadata": {},
   "outputs": [],
   "source": []
  }
 ],
 "metadata": {
  "kernelspec": {
   "display_name": "Python 3",
   "language": "python",
   "name": "python3"
  },
  "language_info": {
   "codemirror_mode": {
    "name": "ipython",
    "version": 3
   },
   "file_extension": ".py",
   "mimetype": "text/x-python",
   "name": "python",
   "nbconvert_exporter": "python",
   "pygments_lexer": "ipython3",
   "version": "3.6.9"
  }
 },
 "nbformat": 4,
 "nbformat_minor": 4
}
