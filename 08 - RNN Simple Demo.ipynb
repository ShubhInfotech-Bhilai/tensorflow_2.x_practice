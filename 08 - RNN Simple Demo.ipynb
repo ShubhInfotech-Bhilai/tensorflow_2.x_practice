{
 "cells": [
  {
   "cell_type": "code",
   "execution_count": 1,
   "metadata": {},
   "outputs": [],
   "source": [
    "import matplotlib.pyplot as plt\n",
    "import tensorflow as tf\n",
    "import numpy as np\n",
    "import time"
   ]
  },
  {
   "cell_type": "code",
   "execution_count": 2,
   "metadata": {},
   "outputs": [
    {
     "name": "stdout",
     "output_type": "stream",
     "text": [
      "X Shape:  (1, 500, 1)\n",
      "Y Shape:  (1, 500)\n",
      "==================================\n",
      "[[1.]] [1.]\n",
      "[[2.]] [3.]\n",
      "[[3.]] [6.]\n",
      "[[4.]] [10.]\n",
      "[[5.]] [15.]\n",
      "[[6.]] [21.]\n",
      "[[7.]] [28.]\n",
      "[[8.]] [36.]\n",
      "[[9.]] [45.]\n",
      "[[10.]] [55.]\n",
      "==================================\n"
     ]
    }
   ],
   "source": [
    "# ===================================================\n",
    "# Generating Sum of n numbers:\n",
    "# \n",
    "# y[i] = y[i-1] + i\n",
    "# \n",
    "# ===================================================\n",
    "\n",
    "x = []\n",
    "\n",
    "for i in range(1, 501, 1):\n",
    "    x.append(i)\n",
    "\n",
    "y = []\n",
    "\n",
    "for i in range(1, 501, 1):\n",
    "    y.append(np.sum(np.linspace(1, i, i)))\n",
    "\n",
    "\n",
    "# ==============================================\n",
    "# (batch, timestamp, n_features)\n",
    "# ==============================================\n",
    "\n",
    "x = np.array(x, dtype='float').reshape(1, 500, 1)\n",
    "y = np.array(y, dtype='float').reshape(1, 500)\n",
    "\n",
    "print('X Shape: ', x.shape)\n",
    "print('Y Shape: ', y.shape)\n",
    "\n",
    "print('==================================')\n",
    "\n",
    "for i in range(10):\n",
    "    print(x[:, i, :], y[:, i])\n",
    "\n",
    "print('==================================')"
   ]
  },
  {
   "cell_type": "code",
   "execution_count": 3,
   "metadata": {},
   "outputs": [],
   "source": [
    "class RNNModel(tf.keras.Model):\n",
    "    \n",
    "    def __init__(self):\n",
    "        super().__init__()\n",
    "        \n",
    "        self.L1 = tf.keras.layers.SimpleRNN(1, kernel_initializer='ones', recurrent_initializer='ones', activation='linear')\n",
    "    \n",
    "    def call(self, inputs):\n",
    "        self.x = self.L1(inputs)\n",
    "        return self.x"
   ]
  },
  {
   "cell_type": "code",
   "execution_count": 4,
   "metadata": {},
   "outputs": [],
   "source": [
    "model = RNNModel()"
   ]
  },
  {
   "cell_type": "code",
   "execution_count": 5,
   "metadata": {},
   "outputs": [],
   "source": [
    "model.compile(optimizer='adam', loss='mse')"
   ]
  },
  {
   "cell_type": "code",
   "execution_count": 6,
   "metadata": {},
   "outputs": [
    {
     "name": "stdout",
     "output_type": "stream",
     "text": [
      "Total training time:  61.83765745162964  seconds.\n"
     ]
    }
   ],
   "source": [
    "u = time.time()\n",
    "\n",
    "hist = model.fit(x, y, epochs=500, shuffle=False, verbose=False)\n",
    "\n",
    "v = time.time()\n",
    "\n",
    "print('Total training time: ', (v - u), ' seconds.')"
   ]
  },
  {
   "cell_type": "code",
   "execution_count": 7,
   "metadata": {},
   "outputs": [
    {
     "data": {
      "image/png": "[encoded data removed]",
      "text/plain": [
       "<Figure size 432x288 with 1 Axes>"
      ]
     },
     "metadata": {
      "needs_background": "light"
     },
     "output_type": "display_data"
    }
   ],
   "source": [
    "plt.plot(hist.history['loss'])\n",
    "plt.show()"
   ]
  },
  {
   "cell_type": "code",
   "execution_count": 8,
   "metadata": {},
   "outputs": [
    {
     "name": "stdout",
     "output_type": "stream",
     "text": [
      "sum of: [1, 2, 3, 4, 5, 6, 7, 8, 9, 10] is: 53.03444\n",
      "sum of: [1, 2, 3, 4, 5] is: 14.67082\n"
     ]
    }
   ],
   "source": [
    "n = 10\n",
    "predict_x = [(i+1) for i in range(n)]\n",
    "predict_y = model.predict(np.array(predict_x).reshape(1, n, 1))\n",
    "\n",
    "print('sum of: [1, 2, 3, 4, 5, 6, 7, 8, 9, 10] is:', np.squeeze(predict_y))\n",
    "\n",
    "n = 5\n",
    "predict_x = [(i+1) for i in range(n)]\n",
    "predict_y = model.predict(np.array(predict_x).reshape(1, n, 1))\n",
    "\n",
    "print('sum of: [1, 2, 3, 4, 5] is:', np.squeeze(predict_y))"
   ]
  },
  {
   "cell_type": "code",
   "execution_count": 9,
   "metadata": {},
   "outputs": [
    {
     "name": "stdout",
     "output_type": "stream",
     "text": [
      "<tf.Variable 'rnn_model/simple_rnn/kernel:0' shape=(1, 1) dtype=float32, numpy=array([[0.9930896]], dtype=float32)>\n",
      "<tf.Variable 'rnn_model/simple_rnn/recurrent_kernel:0' shape=(1, 1) dtype=float32, numpy=array([[0.9906388]], dtype=float32)>\n",
      "<tf.Variable 'rnn_model/simple_rnn/bias:0' shape=(1,) dtype=float32, numpy=array([-0.0083332], dtype=float32)>\n"
     ]
    }
   ],
   "source": [
    "for i in model.weights:\n",
    "    print(i)"
   ]
  }
 ],
 "metadata": {
  "kernelspec": {
   "display_name": "Python 3",
   "language": "python",
   "name": "python3"
  },
  "language_info": {
   "codemirror_mode": {
    "name": "ipython",
    "version": 3
   },
   "file_extension": ".py",
   "mimetype": "text/x-python",
   "name": "python",
   "nbconvert_exporter": "python",
   "pygments_lexer": "ipython3",
   "version": "3.6.9"
  }
 },
 "nbformat": 4,
 "nbformat_minor": 4
}
