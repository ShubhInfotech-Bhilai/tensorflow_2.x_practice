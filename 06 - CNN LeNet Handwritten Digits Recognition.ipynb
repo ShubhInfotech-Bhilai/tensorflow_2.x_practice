{
 "cells": [
  {
   "cell_type": "markdown",
   "metadata": {},
   "source": [
    "# Architecture:\n",
    "\n",
    "<img src=\"./resources/LeNet-5.png\" width=\"800\"  height=\"600\"/>\n",
    "\n",
    "# Paper Link:\n",
    "\n",
    "<a href=\"http://yann.lecun.com/exdb/publis/pdf/lecun-01a.pdf\">Digit Recognition Paper Link</a>"
   ]
  },
  {
   "cell_type": "code",
   "execution_count": 1,
   "metadata": {},
   "outputs": [],
   "source": [
    "import matplotlib.pyplot as plt\n",
    "import tensorflow as tf\n",
    "import numpy as np"
   ]
  },
  {
   "cell_type": "code",
   "execution_count": 2,
   "metadata": {},
   "outputs": [],
   "source": [
    "np.random.seed(1)\n",
    "tf.random.set_seed(1)"
   ]
  },
  {
   "cell_type": "code",
   "execution_count": 3,
   "metadata": {},
   "outputs": [],
   "source": [
    "dataset = tf.keras.datasets.mnist"
   ]
  },
  {
   "cell_type": "code",
   "execution_count": 4,
   "metadata": {},
   "outputs": [],
   "source": [
    "(x_train, y_train), (x_test, y_test) = dataset.load_data()"
   ]
  },
  {
   "cell_type": "code",
   "execution_count": 5,
   "metadata": {},
   "outputs": [
    {
     "name": "stdout",
     "output_type": "stream",
     "text": [
      "(60000, 28, 28, 1)\n",
      "(60000, 1)\n",
      "(10000, 28, 28, 1)\n",
      "(10000, 1)\n",
      "(60000, 10)\n",
      "(10000, 10)\n"
     ]
    }
   ],
   "source": [
    "x_train = x_train.reshape(x_train.shape[0], x_train.shape[1], x_train.shape[2], 1).astype(float)\n",
    "x_test = x_test.reshape(x_test.shape[0], x_test.shape[1], x_test.shape[2], 1).astype(float)\n",
    "\n",
    "y_train = y_train.reshape(y_train.shape[0], 1)\n",
    "y_test = y_test.reshape(y_test.shape[0], 1)\n",
    "\n",
    "print(x_train.shape)\n",
    "print(y_train.shape)\n",
    "print(x_test.shape)\n",
    "print(y_test.shape)\n",
    "\n",
    "y_train_cat = tf.keras.utils.to_categorical(y_train).astype(float)\n",
    "y_test_cat  = tf.keras.utils.to_categorical(y_test).astype(float)\n",
    "\n",
    "print(y_train_cat.shape)\n",
    "print(y_test_cat.shape)"
   ]
  },
  {
   "cell_type": "code",
   "execution_count": 6,
   "metadata": {},
   "outputs": [],
   "source": [
    "class CNN_Digit_Classifier(tf.keras.Model):\n",
    "    \n",
    "    def __init__(self):\n",
    "        super().__init__()\n",
    "        self.L1 = tf.keras.layers.Convolution2D(6, (5, 5), activation='sigmoid', input_shape=(28, 28, 1), padding='valid')\n",
    "        self.L2 = tf.keras.layers.AvgPool2D(strides=(2, 2))\n",
    "        self.L3 = tf.keras.layers.Convolution2D(16, (5, 5), activation='sigmoid')\n",
    "        self.L4 = tf.keras.layers.AvgPool2D(strides=(2, 2))\n",
    "        self.L5 = tf.keras.layers.Flatten()\n",
    "        self.L6 = tf.keras.layers.Dense(120, activation='sigmoid')\n",
    "        self.L7 = tf.keras.layers.Dense(84, activation='sigmoid')\n",
    "        self.L8 = tf.keras.layers.Dense(10, activation='softmax')\n",
    "        \n",
    "    def call(self, inputs):\n",
    "        \n",
    "        self.x = self.L1(inputs)\n",
    "        self.x = self.L2(self.x)\n",
    "        self.x = self.L3(self.x)\n",
    "        self.x = self.L4(self.x)\n",
    "        self.x = self.L5(self.x)\n",
    "        self.x = self.L6(self.x)\n",
    "        self.x = self.L7(self.x)\n",
    "        self.x = self.L8(self.x)\n",
    "        \n",
    "        return self.x"
   ]
  },
  {
   "cell_type": "code",
   "execution_count": 7,
   "metadata": {},
   "outputs": [],
   "source": [
    "model = CNN_Digit_Classifier()"
   ]
  },
  {
   "cell_type": "code",
   "execution_count": 8,
   "metadata": {},
   "outputs": [],
   "source": [
    "model.compile(optimizer='adam', loss=tf.keras.losses.categorical_crossentropy, metrics=['accuracy'])"
   ]
  },
  {
   "cell_type": "code",
   "execution_count": 9,
   "metadata": {},
   "outputs": [
    {
     "name": "stdout",
     "output_type": "stream",
     "text": [
      "Train on 60000 samples\n",
      "Epoch 1/40\n",
      "60000/60000 [==============================] - 5s 75us/sample - loss: 0.4989 - accuracy: 0.8586\n",
      "Epoch 2/40\n",
      "60000/60000 [==============================] - 4s 62us/sample - loss: 0.1126 - accuracy: 0.9656\n",
      "Epoch 3/40\n",
      "60000/60000 [==============================] - 4s 59us/sample - loss: 0.0842 - accuracy: 0.9739\n",
      "Epoch 4/40\n",
      "60000/60000 [==============================] - 3s 57us/sample - loss: 0.0695 - accuracy: 0.9786\n",
      "Epoch 5/40\n",
      "60000/60000 [==============================] - 3s 58us/sample - loss: 0.0586 - accuracy: 0.9815\n",
      "Epoch 6/40\n",
      "60000/60000 [==============================] - 4s 60us/sample - loss: 0.0521 - accuracy: 0.9831\n",
      "Epoch 7/40\n",
      "60000/60000 [==============================] - 4s 62us/sample - loss: 0.0459 - accuracy: 0.9856\n",
      "Epoch 8/40\n",
      "60000/60000 [==============================] - 4s 61us/sample - loss: 0.0418 - accuracy: 0.9864\n",
      "Epoch 9/40\n",
      "60000/60000 [==============================] - 4s 63us/sample - loss: 0.0370 - accuracy: 0.9887\n",
      "Epoch 10/40\n",
      "60000/60000 [==============================] - 4s 61us/sample - loss: 0.0358 - accuracy: 0.9885\n",
      "Epoch 11/40\n",
      "60000/60000 [==============================] - 4s 71us/sample - loss: 0.0323 - accuracy: 0.9890\n",
      "Epoch 12/40\n",
      "60000/60000 [==============================] - 4s 69us/sample - loss: 0.0304 - accuracy: 0.9901\n",
      "Epoch 13/40\n",
      "60000/60000 [==============================] - 4s 67us/sample - loss: 0.0271 - accuracy: 0.9911\n",
      "Epoch 14/40\n",
      "60000/60000 [==============================] - 4s 62us/sample - loss: 0.0253 - accuracy: 0.9915\n",
      "Epoch 15/40\n",
      "60000/60000 [==============================] - 4s 60us/sample - loss: 0.0240 - accuracy: 0.9922\n",
      "Epoch 16/40\n",
      "60000/60000 [==============================] - 4s 61us/sample - loss: 0.0220 - accuracy: 0.9929\n",
      "Epoch 17/40\n",
      "60000/60000 [==============================] - 4s 62us/sample - loss: 0.0213 - accuracy: 0.9928\n",
      "Epoch 18/40\n",
      "60000/60000 [==============================] - 3s 57us/sample - loss: 0.0191 - accuracy: 0.9937\n",
      "Epoch 19/40\n",
      "60000/60000 [==============================] - 4s 61us/sample - loss: 0.0178 - accuracy: 0.9945\n",
      "Epoch 20/40\n",
      "60000/60000 [==============================] - 4s 61us/sample - loss: 0.0171 - accuracy: 0.9942\n",
      "Epoch 21/40\n",
      "60000/60000 [==============================] - 4s 60us/sample - loss: 0.0166 - accuracy: 0.9944\n",
      "Epoch 22/40\n",
      "60000/60000 [==============================] - 4s 62us/sample - loss: 0.0142 - accuracy: 0.9951\n",
      "Epoch 23/40\n",
      "60000/60000 [==============================] - 4s 60us/sample - loss: 0.0144 - accuracy: 0.9953\n",
      "Epoch 24/40\n",
      "60000/60000 [==============================] - 4s 61us/sample - loss: 0.0133 - accuracy: 0.9956\n",
      "Epoch 25/40\n",
      "60000/60000 [==============================] - 4s 60us/sample - loss: 0.0127 - accuracy: 0.9959\n",
      "Epoch 26/40\n",
      "60000/60000 [==============================] - 4s 59us/sample - loss: 0.0118 - accuracy: 0.9959\n",
      "Epoch 27/40\n",
      "60000/60000 [==============================] - 4s 63us/sample - loss: 0.0106 - accuracy: 0.9962\n",
      "Epoch 28/40\n",
      "60000/60000 [==============================] - 4s 60us/sample - loss: 0.0100 - accuracy: 0.9967\n",
      "Epoch 29/40\n",
      "60000/60000 [==============================] - 4s 61us/sample - loss: 0.0102 - accuracy: 0.9965\n",
      "Epoch 30/40\n",
      "60000/60000 [==============================] - 3s 55us/sample - loss: 0.0095 - accuracy: 0.9969\n",
      "Epoch 31/40\n",
      "60000/60000 [==============================] - 3s 57us/sample - loss: 0.0087 - accuracy: 0.9972\n",
      "Epoch 32/40\n",
      "60000/60000 [==============================] - 4s 63us/sample - loss: 0.0079 - accuracy: 0.9973\n",
      "Epoch 33/40\n",
      "60000/60000 [==============================] - 3s 56us/sample - loss: 0.0091 - accuracy: 0.9968\n",
      "Epoch 34/40\n",
      "60000/60000 [==============================] - 3s 56us/sample - loss: 0.0076 - accuracy: 0.9975\n",
      "Epoch 35/40\n",
      "60000/60000 [==============================] - 4s 59us/sample - loss: 0.0072 - accuracy: 0.9974\n",
      "Epoch 36/40\n",
      "60000/60000 [==============================] - 4s 62us/sample - loss: 0.0073 - accuracy: 0.9974\n",
      "Epoch 37/40\n",
      "60000/60000 [==============================] - 3s 58us/sample - loss: 0.0069 - accuracy: 0.9977\n",
      "Epoch 38/40\n",
      "60000/60000 [==============================] - 3s 58us/sample - loss: 0.0061 - accuracy: 0.9980\n",
      "Epoch 39/40\n",
      "60000/60000 [==============================] - 4s 59us/sample - loss: 0.0049 - accuracy: 0.9983\n",
      "Epoch 40/40\n",
      "60000/60000 [==============================] - 3s 55us/sample - loss: 0.0065 - accuracy: 0.9981\n"
     ]
    }
   ],
   "source": [
    "hist = model.fit(x_train, y_train_cat, epochs=40)"
   ]
  },
  {
   "cell_type": "code",
   "execution_count": 10,
   "metadata": {},
   "outputs": [
    {
     "data": {
      "image/png": "[encoded data removed]",
      "text/plain": [
       "<Figure size 432x288 with 1 Axes>"
      ]
     },
     "metadata": {
      "needs_background": "light"
     },
     "output_type": "display_data"
    },
    {
     "name": "stdout",
     "output_type": "stream",
     "text": [
      "Accuracy: 0.9894\n"
     ]
    }
   ],
   "source": [
    "plt.plot(hist.history['loss'])\n",
    "plt.show()\n",
    "\n",
    "print('Accuracy:', model.evaluate(x_test, y_test_cat, verbose=0)[1])"
   ]
  },
  {
   "cell_type": "code",
   "execution_count": 11,
   "metadata": {},
   "outputs": [
    {
     "data": {
      "image/png": "[encoded data removed]",
      "text/plain": [
       "<Figure size 432x288 with 1 Axes>"
      ]
     },
     "metadata": {
      "needs_background": "light"
     },
     "output_type": "display_data"
    },
    {
     "data": {
      "image/png": "[encoded data removed]",
      "text/plain": [
       "<Figure size 432x288 with 1 Axes>"
      ]
     },
     "metadata": {
      "needs_background": "light"
     },
     "output_type": "display_data"
    },
    {
     "data": {
      "image/png": "[encoded data removed]",
      "text/plain": [
       "<Figure size 432x288 with 1 Axes>"
      ]
     },
     "metadata": {
      "needs_background": "light"
     },
     "output_type": "display_data"
    },
    {
     "data": {
      "image/png": "[encoded data removed]",
      "text/plain": [
       "<Figure size 432x288 with 1 Axes>"
      ]
     },
     "metadata": {
      "needs_background": "light"
     },
     "output_type": "display_data"
    },
    {
     "data": {
      "image/png": "[encoded data removed]",
      "text/plain": [
       "<Figure size 432x288 with 1 Axes>"
      ]
     },
     "metadata": {
      "needs_background": "light"
     },
     "output_type": "display_data"
    },
    {
     "name": "stdout",
     "output_type": "stream",
     "text": [
      "[7 2 1 0 4]\n"
     ]
    }
   ],
   "source": [
    "x_test_p = x_test.reshape(x_test.shape[0], x_test.shape[1], x_test.shape[2])\n",
    "\n",
    "y_predicted = model.predict(x_test[0:5, :, :, :])\n",
    "\n",
    "for i in range(5):\n",
    "    plt.imshow(x_test_p[i])\n",
    "    plt.show()\n",
    "\n",
    "print(np.argmax(y_predicted, axis=1))"
   ]
  },
  {
   "cell_type": "code",
   "execution_count": null,
   "metadata": {},
   "outputs": [],
   "source": []
  }
 ],
 "metadata": {
  "kernelspec": {
   "display_name": "Python 3",
   "language": "python",
   "name": "python3"
  },
  "language_info": {
   "codemirror_mode": {
    "name": "ipython",
    "version": 3
   },
   "file_extension": ".py",
   "mimetype": "text/x-python",
   "name": "python",
   "nbconvert_exporter": "python",
   "pygments_lexer": "ipython3",
   "version": "3.6.9"
  }
 },
 "nbformat": 4,
 "nbformat_minor": 4
}
