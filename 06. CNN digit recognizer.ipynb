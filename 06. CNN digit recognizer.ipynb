{
 "cells": [
  {
   "cell_type": "code",
   "execution_count": 1,
   "metadata": {},
   "outputs": [],
   "source": [
    "import matplotlib.pyplot as plt\n",
    "import tensorflow as tf\n",
    "import numpy as np"
   ]
  },
  {
   "cell_type": "code",
   "execution_count": 2,
   "metadata": {},
   "outputs": [],
   "source": [
    "np.random.seed(1)\n",
    "tf.random.set_seed(1)"
   ]
  },
  {
   "cell_type": "code",
   "execution_count": 3,
   "metadata": {},
   "outputs": [],
   "source": [
    "dataset = tf.keras.datasets.mnist"
   ]
  },
  {
   "cell_type": "code",
   "execution_count": 4,
   "metadata": {},
   "outputs": [],
   "source": [
    "(x_train, y_train), (x_test, y_test) = dataset.load_data()"
   ]
  },
  {
   "cell_type": "code",
   "execution_count": 5,
   "metadata": {},
   "outputs": [
    {
     "name": "stdout",
     "output_type": "stream",
     "text": [
      "(60000, 28, 28, 1)\n",
      "(60000, 1)\n",
      "(10000, 28, 28, 1)\n",
      "(10000, 1)\n",
      "(60000, 10)\n",
      "(10000, 10)\n"
     ]
    }
   ],
   "source": [
    "x_train = x_train.reshape(x_train.shape[0], x_train.shape[1], x_train.shape[2], 1).astype(float)\n",
    "x_test = x_test.reshape(x_test.shape[0], x_test.shape[1], x_test.shape[2], 1).astype(float)\n",
    "\n",
    "y_train = y_train.reshape(y_train.shape[0], 1)\n",
    "y_test = y_test.reshape(y_test.shape[0], 1)\n",
    "\n",
    "print(x_train.shape)\n",
    "print(y_train.shape)\n",
    "print(x_test.shape)\n",
    "print(y_test.shape)\n",
    "\n",
    "y_train_cat = tf.keras.utils.to_categorical(y_train).astype(float)\n",
    "y_test_cat  = tf.keras.utils.to_categorical(y_test).astype(float)\n",
    "\n",
    "print(y_train_cat.shape)\n",
    "print(y_test_cat.shape)"
   ]
  },
  {
   "cell_type": "code",
   "execution_count": 6,
   "metadata": {},
   "outputs": [],
   "source": [
    "class CNN_Digit_Classifier(tf.keras.Model):\n",
    "    \n",
    "    def __init__(self):\n",
    "        super().__init__()\n",
    "        self.L1 = tf.keras.layers.Convolution2D(20, (5, 5), activation='relu', input_shape=(28, 28, 1))\n",
    "        self.L2 = tf.keras.layers.MaxPool2D(strides=(2, 2))\n",
    "        self.L3 = tf.keras.layers.Convolution2D(50, (5, 5), activation='relu')\n",
    "        self.L4 = tf.keras.layers.MaxPool2D((2, 2), (2, 2))\n",
    "        self.L5 = tf.keras.layers.Flatten()\n",
    "        self.L6 = tf.keras.layers.Dense(500, activation='relu')\n",
    "        self.L7 = tf.keras.layers.Dense(10, activation='softmax')\n",
    "        \n",
    "    def call(self, inputs):\n",
    "        \n",
    "        self.x = self.L1(inputs)\n",
    "        self.x = self.L2(self.x)\n",
    "        self.x = self.L3(self.x)\n",
    "        self.x = self.L4(self.x)\n",
    "        self.x = self.L5(self.x)\n",
    "        self.x = self.L6(self.x)\n",
    "        self.x = self.L7(self.x)\n",
    "        \n",
    "        return self.x"
   ]
  },
  {
   "cell_type": "code",
   "execution_count": 7,
   "metadata": {},
   "outputs": [],
   "source": [
    "model = CNN_Digit_Classifier()"
   ]
  },
  {
   "cell_type": "code",
   "execution_count": 8,
   "metadata": {},
   "outputs": [],
   "source": [
    "model.compile(optimizer='adam', loss=tf.keras.losses.categorical_crossentropy, metrics=['accuracy'])"
   ]
  },
  {
   "cell_type": "code",
   "execution_count": 9,
   "metadata": {},
   "outputs": [
    {
     "name": "stdout",
     "output_type": "stream",
     "text": [
      "Train on 60000 samples\n",
      "Epoch 1/20\n",
      "60000/60000 [==============================] - 6s 99us/sample - loss: 0.3257 - accuracy: 0.9514\n",
      "Epoch 2/20\n",
      "60000/60000 [==============================] - 5s 82us/sample - loss: 0.0639 - accuracy: 0.9809\n",
      "Epoch 3/20\n",
      "60000/60000 [==============================] - 5s 83us/sample - loss: 0.0530 - accuracy: 0.9846\n",
      "Epoch 4/20\n",
      "60000/60000 [==============================] - 5s 83us/sample - loss: 0.0502 - accuracy: 0.9860\n",
      "Epoch 5/20\n",
      "60000/60000 [==============================] - 5s 83us/sample - loss: 0.0447 - accuracy: 0.9875\n",
      "Epoch 6/20\n",
      "60000/60000 [==============================] - 5s 83us/sample - loss: 0.0389 - accuracy: 0.9896\n",
      "Epoch 7/20\n",
      "60000/60000 [==============================] - 5s 83us/sample - loss: 0.0412 - accuracy: 0.9894\n",
      "Epoch 8/20\n",
      "60000/60000 [==============================] - 5s 83us/sample - loss: 0.0377 - accuracy: 0.9906\n",
      "Epoch 9/20\n",
      "60000/60000 [==============================] - 5s 83us/sample - loss: 0.0385 - accuracy: 0.9913\n",
      "Epoch 10/20\n",
      "60000/60000 [==============================] - 5s 84us/sample - loss: 0.0320 - accuracy: 0.9926\n",
      "Epoch 11/20\n",
      "60000/60000 [==============================] - 5s 84us/sample - loss: 0.0285 - accuracy: 0.9935\n",
      "Epoch 12/20\n",
      "60000/60000 [==============================] - 5s 84us/sample - loss: 0.0359 - accuracy: 0.9927\n",
      "Epoch 13/20\n",
      "60000/60000 [==============================] - 5s 83us/sample - loss: 0.0350 - accuracy: 0.9934\n",
      "Epoch 14/20\n",
      "60000/60000 [==============================] - 5s 84us/sample - loss: 0.0324 - accuracy: 0.9934\n",
      "Epoch 15/20\n",
      "60000/60000 [==============================] - 5s 83us/sample - loss: 0.0352 - accuracy: 0.9941\n",
      "Epoch 16/20\n",
      "60000/60000 [==============================] - 5s 84us/sample - loss: 0.0341 - accuracy: 0.9946\n",
      "Epoch 17/20\n",
      "60000/60000 [==============================] - 5s 84us/sample - loss: 0.0386 - accuracy: 0.9942\n",
      "Epoch 18/20\n",
      "60000/60000 [==============================] - 5s 84us/sample - loss: 0.0304 - accuracy: 0.9955\n",
      "Epoch 19/20\n",
      "60000/60000 [==============================] - 5s 84us/sample - loss: 0.0347 - accuracy: 0.9949\n",
      "Epoch 20/20\n",
      "60000/60000 [==============================] - 5s 84us/sample - loss: 0.0305 - accuracy: 0.9955\n"
     ]
    }
   ],
   "source": [
    "hist = model.fit(x_train, y_train_cat, epochs=20)"
   ]
  },
  {
   "cell_type": "code",
   "execution_count": 10,
   "metadata": {},
   "outputs": [
    {
     "data": {
      "image/png": "[encoded data removed]",
      "text/plain": [
       "<Figure size 432x288 with 1 Axes>"
      ]
     },
     "metadata": {
      "needs_background": "light"
     },
     "output_type": "display_data"
    },
    {
     "name": "stdout",
     "output_type": "stream",
     "text": [
      "Accuracy: 0.9837\n"
     ]
    }
   ],
   "source": [
    "plt.plot(hist.history['loss'])\n",
    "plt.show()\n",
    "\n",
    "print('Accuracy:', model.evaluate(x_test, y_test_cat, verbose=0)[1])"
   ]
  },
  {
   "cell_type": "code",
   "execution_count": 11,
   "metadata": {},
   "outputs": [
    {
     "data": {
      "image/png": "[encoded data removed]",
      "text/plain": [
       "<Figure size 432x288 with 1 Axes>"
      ]
     },
     "metadata": {
      "needs_background": "light"
     },
     "output_type": "display_data"
    },
    {
     "data": {
      "image/png": "[encoded data removed]",
      "text/plain": [
       "<Figure size 432x288 with 1 Axes>"
      ]
     },
     "metadata": {
      "needs_background": "light"
     },
     "output_type": "display_data"
    },
    {
     "data": {
      "image/png": "[encoded data removed]",
      "text/plain": [
       "<Figure size 432x288 with 1 Axes>"
      ]
     },
     "metadata": {
      "needs_background": "light"
     },
     "output_type": "display_data"
    },
    {
     "data": {
      "image/png": "[encoded data removed]",
      "text/plain": [
       "<Figure size 432x288 with 1 Axes>"
      ]
     },
     "metadata": {
      "needs_background": "light"
     },
     "output_type": "display_data"
    },
    {
     "data": {
      "image/png": "[encoded data removed]",
      "text/plain": [
       "<Figure size 432x288 with 1 Axes>"
      ]
     },
     "metadata": {
      "needs_background": "light"
     },
     "output_type": "display_data"
    },
    {
     "name": "stdout",
     "output_type": "stream",
     "text": [
      "[7 2 1 0 4]\n"
     ]
    }
   ],
   "source": [
    "x_test_p = x_test.reshape(x_test.shape[0], x_test.shape[1], x_test.shape[2])\n",
    "\n",
    "y_predicted = model.predict(x_test[0:5, :, :, :])\n",
    "\n",
    "for i in range(5):\n",
    "    plt.imshow(x_test_p[i])\n",
    "    plt.show()\n",
    "\n",
    "print(np.argmax(y_predicted, axis=1))"
   ]
  }
 ],
 "metadata": {
  "kernelspec": {
   "display_name": "Python 3",
   "language": "python",
   "name": "python3"
  },
  "language_info": {
   "codemirror_mode": {
    "name": "ipython",
    "version": 3
   },
   "file_extension": ".py",
   "mimetype": "text/x-python",
   "name": "python",
   "nbconvert_exporter": "python",
   "pygments_lexer": "ipython3",
   "version": "3.6.9"
  }
 },
 "nbformat": 4,
 "nbformat_minor": 4
}
